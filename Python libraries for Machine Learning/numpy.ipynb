{
 "cells": [
  {
   "cell_type": "markdown",
   "metadata": {},
   "source": [
    " Numpy --> Numerical Python\n",
    " Advantage of Numpy Arrays\n",
    " 1. Faster than Python Lists\n",
    "\n",
    "\n",
    "\n"
   ]
  },
  {
   "cell_type": "code",
   "execution_count": 1,
   "metadata": {},
   "outputs": [],
   "source": [
    "import numpy as np"
   ]
  },
  {
   "cell_type": "code",
   "execution_count": 2,
   "metadata": {},
   "outputs": [
    {
     "name": "stdout",
     "output_type": "stream",
     "text": [
      "0.0\n"
     ]
    }
   ],
   "source": [
    "# List vs Numpy - Time Taken\n",
    "from time import process_time\n",
    "\n",
    "# Time taken by a list\n",
    "python_list = [i for i in range(1000)]\n",
    "start_time = process_time()\n",
    "\n",
    "python_list = [i+5 for i in python_list]\n",
    "end_time = process_time()\n",
    "\n",
    "print(end_time-start_time)\n"
   ]
  },
  {
   "cell_type": "code",
   "execution_count": 3,
   "metadata": {},
   "outputs": [
    {
     "name": "stdout",
     "output_type": "stream",
     "text": [
      "Time taken by Numpy array: 0.0 seconds\n"
     ]
    }
   ],
   "source": [
    "# Let's do for the Numpy array \n",
    "\n",
    "np_array = np.array([i for i in range(10000)])\n",
    "\n",
    "start_time = process_time()\n",
    "np_array +=5\n",
    "end_time = process_time()\n",
    "print(f\"Time taken by Numpy array: {end_time - start_time} seconds\")\n",
    "\n",
    "\n"
   ]
  },
  {
   "cell_type": "code",
   "execution_count": 4,
   "metadata": {},
   "outputs": [
    {
     "name": "stdout",
     "output_type": "stream",
     "text": [
      "[1, 2, 3, 4, 5]\n"
     ]
    },
    {
     "data": {
      "text/plain": [
       "list"
      ]
     },
     "execution_count": 4,
     "metadata": {},
     "output_type": "execute_result"
    }
   ],
   "source": [
    "# Let's Deep dive into Numpy array\n",
    "list1 = [1,2,3,4,5]\n",
    "print(list1)\n",
    "type(list1)"
   ]
  },
  {
   "cell_type": "code",
   "execution_count": 5,
   "metadata": {},
   "outputs": [
    {
     "name": "stdout",
     "output_type": "stream",
     "text": [
      "[1 2 3 4 5]\n"
     ]
    },
    {
     "data": {
      "text/plain": [
       "numpy.ndarray"
      ]
     },
     "execution_count": 5,
     "metadata": {},
     "output_type": "execute_result"
    }
   ],
   "source": [
    "np_array = np.array([1,2,3,4,5])\n",
    "print(np_array)\n",
    "type(np_array)"
   ]
  },
  {
   "cell_type": "code",
   "execution_count": 8,
   "metadata": {},
   "outputs": [
    {
     "name": "stdout",
     "output_type": "stream",
     "text": [
      "(5,)\n",
      "(2, 3)\n"
     ]
    }
   ],
   "source": [
    "# Creating the 1 dim array\n",
    "arr1 = np.array([1, 2, 3, 4, 5])\n",
    "print(arr1.shape)\n",
    "# Creating a 2D array\n",
    "arr2 = np.array([(1, 2, 3), (4, 5,6)])\n",
    "print(arr2.shape)\n"
   ]
  },
  {
   "cell_type": "code",
   "execution_count": 9,
   "metadata": {},
   "outputs": [
    {
     "name": "stdout",
     "output_type": "stream",
     "text": [
      "[1. 2. 3. 4. 5.]\n"
     ]
    }
   ],
   "source": [
    "# Now creating with mentioning the dtypes\n",
    "\n",
    "arr3 = np.array([1, 2, 3, 4, 5], dtype=np.float64)\n",
    "print(arr3)  # Output: [1. 2. 3. 4. 5.]"
   ]
  },
  {
   "cell_type": "code",
   "execution_count": 11,
   "metadata": {},
   "outputs": [
    {
     "name": "stdout",
     "output_type": "stream",
     "text": [
      "Array with intially zero \n",
      " [[0. 0.]\n",
      " [0. 0.]]\n",
      "Array with  initally one \n",
      "[[1. 1.]\n",
      " [1. 1.]]\n",
      "Array with shape (2,2) and all the values are 7 ---> \n",
      "[[7 7]\n",
      " [7 7]]\n",
      "its an identity matrix \n",
      " [[1. 0.]\n",
      " [0. 1.]]\n"
     ]
    }
   ],
   "source": [
    "# Creating the array using the inital place holder's \n",
    "\n",
    "arr4 = np.zeros((2, 2))\n",
    "print(f'Array with intially zero \\n {arr4}')\n",
    "\n",
    "arr5 = np.ones((2, 2))\n",
    "print(f'Array with  initally one \\n{arr5}')\n",
    "\n",
    "arr6 = np.full((2, 2), 7)\n",
    "print(f'Array with shape (2,2) and all the values are 7 ---> \\n{arr6}')\n",
    "\n",
    "arr7 = np.eye(2)\n",
    "print(f'its an identity matrix \\n {arr7}')\n",
    "\n"
   ]
  },
  {
   "cell_type": "code",
   "execution_count": 12,
   "metadata": {},
   "outputs": [
    {
     "name": "stdout",
     "output_type": "stream",
     "text": [
      "Array with random values \n",
      "[[0.12277874 0.5295895 ]\n",
      " [0.00295755 0.08210252]]\n",
      "Array with random integers \n",
      "[[5 1]\n",
      " [7 5]]\n"
     ]
    }
   ],
   "source": [
    "# Creating the values with random using the random function \n",
    "\n",
    "arr8 = np.random.random((2, 2))\n",
    "print(f'Array with random values \\n{arr8}')\n",
    "\n",
    "arr9 = np.random.randint(1, 10, (2, 2))\n",
    "print(f'Array with random integers \\n{arr9}')\n"
   ]
  },
  {
   "cell_type": "code",
   "execution_count": 14,
   "metadata": {},
   "outputs": [
    {
     "name": "stdout",
     "output_type": "stream",
     "text": [
      "[ 0.  2.  4.  6.  8. 10.]\n"
     ]
    }
   ],
   "source": [
    "# array for evenly spaced values \n",
    "x = np.linspace(0, 10, 6)\n",
    "print(x)"
   ]
  },
  {
   "cell_type": "code",
   "execution_count": 15,
   "metadata": {},
   "outputs": [
    {
     "name": "stdout",
     "output_type": "stream",
     "text": [
      "[10 15 20 25]\n"
     ]
    }
   ],
   "source": [
    "# array for evenly spaced values --> specifying the step\n",
    "y = np.arange(10,30,5)\n",
    "\n",
    "print(y)"
   ]
  },
  {
   "cell_type": "code",
   "execution_count": 17,
   "metadata": {},
   "outputs": [
    {
     "name": "stdout",
     "output_type": "stream",
     "text": [
      "[1 2 3 4 4 5]\n"
     ]
    }
   ],
   "source": [
    "# Convert the list to a numpy array\n",
    "list2 = [1,2,3,4,4,5]\n",
    "\n",
    "np_array = np.asarray(list2)\n",
    "print(np_array)"
   ]
  },
  {
   "cell_type": "code",
   "execution_count": 18,
   "metadata": {},
   "outputs": [
    {
     "name": "stdout",
     "output_type": "stream",
     "text": [
      "[[58 17 32 50 83]\n",
      " [75 29 11 11 35]\n",
      " [88 73 21 34 85]\n",
      " [39 61 64 23 12]\n",
      " [38 86 36 49 11]]\n"
     ]
    }
   ],
   "source": [
    "# Analysing the Numpy array\n",
    "\n",
    "a = np.random.randint(10,90,(5,5))\n",
    "print(a)"
   ]
  },
  {
   "cell_type": "code",
   "execution_count": 22,
   "metadata": {},
   "outputs": [
    {
     "name": "stdout",
     "output_type": "stream",
     "text": [
      "Shape of the array (5, 5)\n",
      "Dim of the array 2\n",
      "num of element in the array 25\n",
      "Checking the data type of the array int32\n"
     ]
    }
   ],
   "source": [
    "# array dim \n",
    "print(f'Shape of the array {a.shape}')\n",
    "print(f'Dim of the array {a.ndim}')\n",
    "print(f'num of element in the array {a.size}')\n",
    "print(f'Checking the data type of the array {a.dtype}')"
   ]
  },
  {
   "cell_type": "code",
   "execution_count": 25,
   "metadata": {},
   "outputs": [
    {
     "name": "stdout",
     "output_type": "stream",
     "text": [
      "Addition of the two matrix --------   [ 7  9 11 13 15]\n",
      "subtraction of the two matrix-------- [-5 -5 -5 -5 -5]\n",
      "Multiplication of the two matrix ---- [ 6 14 24 36 50]\n",
      "Division of the two matrix -----------[0.16666667 0.28571429 0.375      0.44444444 0.5       ]\n",
      "Exponetion of the two matrix -------- [      1     128    6561  262144 9765625]\n"
     ]
    }
   ],
   "source": [
    "# Mathmetical operation in the numpy array \n",
    "\n",
    "# 1. Addition\n",
    "\n",
    "b = np.array([1,2,3,4,5])\n",
    "c = np.array([6,7,8,9,10])\n",
    "\n",
    "print(f'Addition of the two matrix --------   {b+c}')  # Output: [ 7  9 11 13 15 .....\n",
    "\n",
    "# 2. Subtraction\n",
    "print(f'subtraction of the two matrix-------- {b-c}')  # Output: [-5 -5 -5 -5 -5 .....\n",
    "\n",
    "# 3. Multiplication\n",
    "print(f'Multiplication of the two matrix ---- {b*c}')  # Output: [ 6 14 24 36 50 .....\n",
    "\n",
    "# 4. Division\n",
    "print(f'Division of the two matrix -----------{b/c}')  # Output: [0.16666667 0.28571429 0.375  0.44444444 0.5   .....\n",
    "\n",
    "# 5. Exponentiation\n",
    "print(f'Exponetion of the two matrix -------- {b**c}')  # Output: [   1    8   27\n"
   ]
  },
  {
   "cell_type": "code",
   "execution_count": 28,
   "metadata": {},
   "outputs": [
    {
     "name": "stdout",
     "output_type": "stream",
     "text": [
      "Addition of the two matrix --------   [ 7  9 11 13 15]\n",
      "Subtraction of the two matrix --------[-5 -5 -5 -5 -5]\n",
      "Multiplication of the two matrix -----[ 6 14 24 36 50]\n",
      "Division of the two matrix --------   [0.16666667 0.28571429 0.375      0.44444444 0.5       ]\n",
      "Exponentiation of the two matrix -----[      1     128    6561  262144 9765625]\n"
     ]
    }
   ],
   "source": [
    "# Performing the Mathematical operation using the Inbuilt function of the numpy\n",
    "\n",
    "print(f'Addition of the two matrix --------   {np.add(b,c)}')  # Output: [ 7  9 11 13 15 .....\n",
    "\n",
    "print(f'Subtraction of the two matrix --------{np.subtract(b,c)}')  # Output: [-5 -5 -5 -5 -5 .....\n",
    "\n",
    "print(f'Multiplication of the two matrix -----{np.multiply(b,c)}')  # Output: [ 6 14 24 36 50 .....\n",
    "\n",
    "print(f'Division of the two matrix --------   {np.divide(b,c)}')  # Output: [0.16666667 0.28571429 0.375  0.44444444 0.5   .....\n",
    "\n",
    "print(f'Exponentiation of the two matrix -----{np.power(b,c)}')  # Output: [   1    8   27 64  125 .....\n",
    "\n"
   ]
  },
  {
   "cell_type": "code",
   "execution_count": 33,
   "metadata": {},
   "outputs": [
    {
     "name": "stdout",
     "output_type": "stream",
     "text": [
      "Transpose of the matrix -----------> \n",
      "[[12 55 71 73 44]\n",
      " [31 56 65 42 49]\n",
      " [46 17 81 37 89]\n",
      " [68 37 65 82 69]\n",
      " [13 86 12 41 14]]\n"
     ]
    }
   ],
   "source": [
    "# Transpose of the martix\n",
    "a = np.random.randint(10,90,(5,5))\n",
    "print(f'Transpose of the matrix -----------> \\n{a.T}')  # Output: [[ 1  4  7 10]\n"
   ]
  },
  {
   "cell_type": "code",
   "execution_count": 36,
   "metadata": {},
   "outputs": [
    {
     "name": "stdout",
     "output_type": "stream",
     "text": [
      "Original array: \n",
      " [[6 9 8]\n",
      " [6 3 6]\n",
      " [7 1 3]\n",
      " [2 1 2]\n",
      " [4 1 9]]\n",
      "Reshaped array: \n",
      " [[6 9 8 6 3]\n",
      " [6 7 1 3 2]\n",
      " [1 2 4 1 9]]\n"
     ]
    }
   ],
   "source": [
    "# Reshaping the array \n",
    "\n",
    "a = np.random.randint(0,10,(5,3))\n",
    "print(\"Original array: \\n\", a)\n",
    "\n",
    "# Reshaping the array to 3x5\n",
    "a = a.reshape(3,5)\n",
    "print(\"Reshaped array: \\n\", a)"
   ]
  }
 ],
 "metadata": {
  "kernelspec": {
   "display_name": "Python 3",
   "language": "python",
   "name": "python3"
  },
  "language_info": {
   "codemirror_mode": {
    "name": "ipython",
    "version": 3
   },
   "file_extension": ".py",
   "mimetype": "text/x-python",
   "name": "python",
   "nbconvert_exporter": "python",
   "pygments_lexer": "ipython3",
   "version": "3.12.5"
  }
 },
 "nbformat": 4,
 "nbformat_minor": 2
}
